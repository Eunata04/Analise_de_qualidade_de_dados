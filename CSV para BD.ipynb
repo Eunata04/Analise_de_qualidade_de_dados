{
 "cells": [
  {
   "cell_type": "markdown",
   "metadata": {},
   "source": [
    "## inserção dos dados CSV no Banco de dados"
   ]
  },
  {
   "cell_type": "markdown",
   "metadata": {},
   "source": [
    "Importando as bibliotecas"
   ]
  },
  {
   "cell_type": "code",
   "execution_count": 1,
   "metadata": {},
   "outputs": [],
   "source": [
    "import pandas as pd\n",
    "import pyodbc"
   ]
  },
  {
   "cell_type": "markdown",
   "metadata": {},
   "source": [
    "Lendo o CSV"
   ]
  },
  {
   "cell_type": "code",
   "execution_count": null,
   "metadata": {},
   "outputs": [],
   "source": [
    "df = pd.read_csv(r\"C:\\Users\\eunat\\Desktop\\Bank_Churn_Messy@.csv\", delimiter=\";\")\n",
    "df"
   ]
  },
  {
   "cell_type": "markdown",
   "metadata": {},
   "source": [
    "Função para tratar coluna float desejada"
   ]
  },
  {
   "cell_type": "code",
   "execution_count": null,
   "metadata": {},
   "outputs": [],
   "source": [
    "def limpar_coluna_float(df, coluna, casas_decimais=2):\n",
    "\n",
    "    # 1. Substituir NaN por zero\n",
    "    df[coluna] = df[coluna].fillna(0)\n",
    "    \n",
    "    # 2. Substituir Inf ou -Inf por zero\n",
    "    df[coluna] = df[coluna].replace([np.inf, -np.inf], 0)\n",
    "    \n",
    "    # 3. Arredondar para o número especificado de casas decimais\n",
    "    df[coluna] = df[coluna].round(casas_decimais)\n",
    "    \n",
    "    # 4. Verificar se a coluna tem valores não numéricos e removê-los (se necessário)\n",
    "    df[coluna] = pd.to_numeric(df[coluna], errors='coerce') \n",
    "    \n",
    "    # Opcional: Substituir novamente os NaN gerados após a conversão\n",
    "    df[coluna] = df[coluna].fillna(0)\n",
    "\n",
    "    return df\n",
    "\n",
    "# Aplicar a limpeza na coluna\n",
    "df = limpar_coluna_float(df, 'Balance', casas_decimais=2)\n",
    "\n",
    "# Verificar o resultado\n",
    "print(df['Balance'])\n"
   ]
  },
  {
   "cell_type": "markdown",
   "metadata": {},
   "source": [
    "Verificar a tipagem das colunas"
   ]
  },
  {
   "cell_type": "code",
   "execution_count": null,
   "metadata": {},
   "outputs": [],
   "source": [
    "for coluna, tipo in df.dtypes.items():\n",
    "    print(f\"{coluna}, Tipo: {tipo}\")"
   ]
  },
  {
   "cell_type": "markdown",
   "metadata": {},
   "source": [
    "Excluir coluna duplicada"
   ]
  },
  {
   "cell_type": "code",
   "execution_count": 23,
   "metadata": {},
   "outputs": [],
   "source": [
    "df = df.drop(columns=[\"Tenure.1\"])"
   ]
  },
  {
   "cell_type": "markdown",
   "metadata": {},
   "source": [
    "Conexão com o banco de dados"
   ]
  },
  {
   "cell_type": "code",
   "execution_count": null,
   "metadata": {},
   "outputs": [],
   "source": [
    "server = 'DESKTOP-QL6I1JD' \n",
    "database = 'Bank_Churn_Quality'  \n",
    "conexaoDB = pyodbc.connect('DRIVER={ODBC Driver 17 for SQL Server};'\n",
    "                      f'SERVER={server};'\n",
    "                      f'DATABASE={database};'\n",
    "                      'Trusted_Connection=yes;')\n",
    "\n",
    "cursor = conexaoDB.cursor()  "
   ]
  },
  {
   "cell_type": "markdown",
   "metadata": {},
   "source": [
    "Substituição de valores nas colunas"
   ]
  },
  {
   "cell_type": "code",
   "execution_count": 25,
   "metadata": {},
   "outputs": [],
   "source": [
    "df[\"HasCrCard\"] = df[\"HasCrCard\"].map({\"Yes\": 1, \"No\": 0})\n",
    "df[\"IsActiveMember\"] = df[\"IsActiveMember\"].map({\"Yes\": 1, \"No\": 0})"
   ]
  },
  {
   "cell_type": "markdown",
   "metadata": {},
   "source": [
    "Deleta duplicadas"
   ]
  },
  {
   "cell_type": "code",
   "execution_count": 29,
   "metadata": {},
   "outputs": [],
   "source": [
    "df = df.drop_duplicates()"
   ]
  },
  {
   "cell_type": "markdown",
   "metadata": {},
   "source": [
    "\"FOR\" para inserir todos os dados do CSV no BD"
   ]
  },
  {
   "cell_type": "code",
   "execution_count": null,
   "metadata": {},
   "outputs": [],
   "source": [
    "for index, linha in df.iterrows():\n",
    "    try:\n",
    "        cursor.execute(\n",
    "            \"\"\"\n",
    "            INSERT INTO [Customers] (CustomerId, Surname, CreditScore, Geography, Gender, Age, Tenure, \n",
    "                                   EstimatedSalary, Balance, NumOfProducts, HasCrCard, IsActiveMember, Exited)\n",
    "            VALUES (?, ?, ?, ?, ?, ?, ?, ?, ?, ?, ?, ?, ?)\n",
    "            \"\"\",\n",
    "            linha.CustomerId, linha.Surname, linha.CreditScore, linha.Geography, linha.Gender, linha.Age,\n",
    "            linha.Tenure, linha.EstimatedSalary, linha.Balance, linha.NumOfProducts,\n",
    "            linha.HasCrCard, linha.IsActiveMember, linha.Exited\n",
    "        )\n",
    "    except Exception as e:\n",
    "        print(f\"Erro ao inserir o índice {index}: {e}\")\n",
    "        continue\n",
    "\n",
    "cursor.commit()\n",
    "cursor.close()\n",
    "conexaoDB.close()\n"
   ]
  }
 ],
 "metadata": {
  "kernelspec": {
   "display_name": "Python 3",
   "language": "python",
   "name": "python3"
  },
  "language_info": {
   "codemirror_mode": {
    "name": "ipython",
    "version": 3
   },
   "file_extension": ".py",
   "mimetype": "text/x-python",
   "name": "python",
   "nbconvert_exporter": "python",
   "pygments_lexer": "ipython3",
   "version": "3.11.4"
  }
 },
 "nbformat": 4,
 "nbformat_minor": 2
}
